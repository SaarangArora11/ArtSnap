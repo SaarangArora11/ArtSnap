{
 "cells": [
  {
   "cell_type": "code",
   "execution_count": 1,
   "id": "c162ebfc",
   "metadata": {},
   "outputs": [],
   "source": [
    "import PIL.Image as IMG\n",
    "import cv2 as cv\n",
    "from rembg import remove"
   ]
  },
  {
   "cell_type": "code",
   "execution_count": 2,
   "id": "6f694850",
   "metadata": {},
   "outputs": [],
   "source": [
    "# Photo functions\n",
    "def IMG_resize(image, new_width = 100):\n",
    "    \"\"\"\n",
    "    Resizes the image\n",
    "    @parameters\n",
    "    - image, input an object of type jpg, png\n",
    "    - new_width, set the desired width to resize. Default: 100px\n",
    "    \"\"\"\n",
    "    width, height = image.size\n",
    "    ratio = height/width\n",
    "    new_height = int(new_width * ratio)\n",
    "    \n",
    "    return image.resize((new_width, new_height))\n",
    "\n",
    "def IMG_grayscale(image):\n",
    "    \"\"\"\n",
    "    returns the grayscaled version of the input by averaging RGB values for each pixel\n",
    "    \"\"\"\n",
    "    return image.convert(\"L\")\n",
    "\n",
    "def IMG_remove_bg(image):\n",
    "    \"\"\"\n",
    "    returns an image without a background\n",
    "    \"\"\"\n",
    "    return remove(image)\n",
    "\n",
    "def IMG_ASCII(img):\n",
    "    \"\"\"\n",
    "    returns an ASCIIfied version of the image\n",
    "    \"\"\"\n",
    "    symbols = list(\" abcdefghijklmnopqrstuvwxyz\")\n",
    "    \n",
    "    pixels=img.getdata()\n",
    "    characters = \"\".join([symbols[pixel//len(symbols)]for pixel in pixels])\n",
    "    return(characters)\n",
    "    \n",
    "    \n",
    "\n",
    "    \n",
    "\n",
    "\n",
    "\n"
   ]
  },
  {
   "cell_type": "code",
   "execution_count": 32,
   "id": "e51d145a",
   "metadata": {},
   "outputs": [],
   "source": [
    "pixel_count = len(new_image_data)\n",
    "new_width = 200\n",
    "ASCII_image = \"\\n\".join(new_image_data[i:(i+new_width)] for i in range(0,pixel_count,new_width)) \n",
    "\n",
    "with open(\"ASCII_image.txt\",\"w\") as f:\n",
    "    f.write(ASCII_image)"
   ]
  },
  {
   "cell_type": "code",
   "execution_count": 11,
   "id": "645e09e0",
   "metadata": {},
   "outputs": [
    {
     "name": "stdout",
     "output_type": "stream",
     "text": [
      "An error occurred: write() argument must be str, not Image\n"
     ]
    }
   ],
   "source": [
    "import cv2 as cv\n",
    "from PIL import Image as IMG\n",
    "from rembg import remove\n",
    "\n",
    "# Photo functions\n",
    "def resize_image(image, new_width=100):\n",
    "    \"\"\"\n",
    "    Resizes the image\n",
    "    @parameters\n",
    "    - image, input an object of type jpg, png\n",
    "    - new_width, set the desired width to resize. Default: 100px\n",
    "    \"\"\"\n",
    "    width, height = image.size\n",
    "    ratio = height / width\n",
    "    new_height = int(new_width * ratio)\n",
    "    \n",
    "    return image.resize((new_width, new_height))\n",
    "\n",
    "def convert_to_grayscale(image):\n",
    "    \"\"\"\n",
    "    Returns the grayscaled version of the input by averaging RGB values for each pixel\n",
    "    \"\"\"\n",
    "    return image.convert(\"L\")\n",
    "\n",
    "def remove_background(image):\n",
    "    \"\"\"\n",
    "    Returns an image without a background\n",
    "    \"\"\"\n",
    "    return remove(image)\n",
    "\n",
    "def ascii_image(img):\n",
    "    \"\"\"\n",
    "    Returns an ASCIIfied version of the image\n",
    "    \"\"\"\n",
    "    symbols = list(\" abcdefghijklmnopqrstuvwxyz\")\n",
    "    \n",
    "    pixels = img.getdata()\n",
    "    characters = \"\".join([symbols[pixel[0] // len(symbols)] for pixel in pixels])\n",
    "    return characters\n",
    "\n",
    "def save_to_txt(ascii_art, filename=\"output.txt\"):\n",
    "    \"\"\"\n",
    "    Saves the ASCII art to a text file\n",
    "    @parameters\n",
    "    - ascii_art, the ASCII art string to be saved\n",
    "    - filename, the name of the text file to save to. Default: \"output.txt\"\n",
    "    \"\"\"\n",
    "    with open(filename, \"w\") as file:\n",
    "        file.write(ascii_art)\n",
    "    print(f\"ASCII art saved to {filename}\")\n",
    "\n",
    "# Corrected image processing sequence\n",
    "try:\n",
    "    original_image = IMG.open(\"_inputs/SEKIRO.jpg\")\n",
    "    resized_image = resize_image(original_image)\n",
    "    grayscale_image = convert_to_grayscale(resized_image)\n",
    "    no_bg_image = remove_background(grayscale_image)\n",
    "    ascii_art = ascii_image(no_bg_image)\n",
    "    save_to_txt(ascii_art)\n",
    "\n",
    "except Exception as e:\n",
    "    print(f\"An error occurred: {e}\")\n"
   ]
  },
  {
   "cell_type": "code",
   "execution_count": 10,
   "id": "758330d7",
   "metadata": {},
   "outputs": [],
   "source": [
    "# Video functions\n",
    "vidcap = cv.VideoCapture(\"_inputs/KUNGFU.mp4\")\n",
    "\n",
    "def getFrames(sec):\n",
    "    vidcap.set(cv.CAP_PROP_POS_MSEC, sec*1000)\n",
    "    hasFrames, image = vidcap.read()\n",
    "    \n",
    "    if hasFrames:\n",
    "        cv.imwrite(\"_inputs/image\" + str(count) + \".jpg\", image)\n",
    "        return hasFrames\n",
    "sec = 0\n",
    "frameRate = 0.5\n",
    "count = 1\n",
    "success = getFrames(sec)\n",
    "while success:\n",
    "    count += 1\n",
    "    sec += frameRate\n",
    "    sec = round(sec, 2)\n",
    "    success = getFrames(sec)"
   ]
  },
  {
   "cell_type": "code",
   "execution_count": 16,
   "id": "8f5a7443",
   "metadata": {},
   "outputs": [
    {
     "data": {
      "image/png": "[encoded data removed]",
      "text/plain": [
       "<PIL.Image.Image image mode=RGBA size=100x100>"
      ]
     },
     "execution_count": 16,
     "metadata": {},
     "output_type": "execute_result"
    }
   ],
   "source": [
    "for i in range(count) \n",
    "image = IMG.open(\"_outputs/image5.jpg\")\n",
    "IMG_remove_bg(IMG_grayscale((IMG_resize(image))))"
   ]
  },
  {
   "cell_type": "code",
   "execution_count": null,
   "id": "76842bea",
   "metadata": {},
   "outputs": [],
   "source": [
    "for i in range(0, len(os.open(\"\")))"
   ]
  }
 ],
 "metadata": {
  "kernelspec": {
   "display_name": "Python 3 (ipykernel)",
   "language": "python",
   "name": "python3"
  },
  "language_info": {
   "codemirror_mode": {
    "name": "ipython",
    "version": 3
   },
   "file_extension": ".py",
   "mimetype": "text/x-python",
   "name": "python",
   "nbconvert_exporter": "python",
   "pygments_lexer": "ipython3",
   "version": "3.11.3"
  }
 },
 "nbformat": 4,
 "nbformat_minor": 5
}
