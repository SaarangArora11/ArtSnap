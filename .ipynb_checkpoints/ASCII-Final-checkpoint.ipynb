{
 "cells": [
  {
   "cell_type": "code",
   "execution_count": 101,
   "metadata": {},
   "outputs": [
    {
     "name": "stderr",
     "output_type": "stream",
     "text": [
      "C:\\Users\\nidhi\\AppData\\Local\\Temp\\ipykernel_12440\\1077387163.py:46: DeprecationWarning: getsize is deprecated and will be removed in Pillow 10 (2023-07-01). Use getbbox or getlength instead.\n",
      "  line_height = font.getsize(\"A\")[1]  # Get the height of a single line of text\n",
      "C:\\Users\\nidhi\\AppData\\Local\\Temp\\ipykernel_12440\\1077387163.py:48: DeprecationWarning: getsize is deprecated and will be removed in Pillow 10 (2023-07-01). Use getbbox or getlength instead.\n",
      "  width = max(font.getsize(line)[0] for line in lines)  # Get the maximum line width\n"
     ]
    }
   ],
   "source": [
    "import PIL.Image as IMG\n",
    "import PIL.ImageFont as ImageFont\n",
    "import PIL.ImageDraw as ImageDraw\n",
    "from rembg import remove\n",
    "\n",
    "image = IMG.open(\"_inputs/FOOTBALL.png\")\n",
    "gscale1 = [\" \", \"$\", \"@\", \"B\", \"%\", \"8\", \"&\", \"W\", \"M\", \"*\", \"#\", \"o\", \"a\", \"h\", \"k\", \"b\", \"d\", \"p\", \"q\", \"w\", \"m\", \"Z\", \"O\", \"0\", \"Q\", \"L\", \"C\", \"J\", \"U\", \"Y\", \"X\", \"z\", \"c\", \"v\", \"u\", \"n\", \"x\", \"r\", \"j\", \"f\", \"t\", \"/\", \"\\\\\", \"|\", \"(\", \")\", \"{\", \"}\", \"[\", \"]\", \"-\", \"?\", \"_\", \"+\", \"~\", \"i\", \"!\", \"l\", \"I\", \";\", \":\", \",\", \"^\", \"`\", \".\"]\n",
    "\n",
    "def eraseBKG(image):\n",
    "    return remove(image)\n",
    "\n",
    "\n",
    "def img_resize(image, new_width=100):\n",
    "    width, height = image.size\n",
    "    aspect_ratio = height / width\n",
    "    new_height = int(new_width * aspect_ratio)\n",
    "    resized_image = image.resize((new_width, new_height))\n",
    "    return resized_image\n",
    "\n",
    "def grayscale_convert(image):\n",
    "    grayscale_image = image.convert(\"L\")\n",
    "    return grayscale_image\n",
    "\n",
    "def ASCIIify(image, new_width):\n",
    "    pixels = image.getdata()\n",
    "    characters = \"\".join([gscale1[pixel // 25] for pixel in pixels])\n",
    "    pixel_count = len(characters)\n",
    "    ASCII_image = \"\\n\".join(characters[i:(i+new_width)] for i in range(0, pixel_count, new_width))\n",
    "    return ASCII_image\n",
    "\n",
    "def export(image):\n",
    "    resized_image = img_resize(eraseBKG(image))\n",
    "    new_width = 225  # Set the desired width for the ASCII art\n",
    "    ASCII_art = ASCIIify(grayscale_convert(image), new_width)\n",
    "    \n",
    "    with open(\"ASCII_image.txt\", \"w\") as f:\n",
    "        f.write(ASCII_art)\n",
    "    \n",
    "    return ASCII_art\n",
    "\n",
    "def ascii_to_image(ascii_art, output_file):\n",
    "    font_size = 10  # Set the font size for the characters in the image\n",
    "    font = ImageFont.truetype(\"arial.ttf\", font_size)  # Load a font (e.g., Arial)\n",
    "    \n",
    "    lines = ascii_art.split(\"\\n\")\n",
    "    line_height = font.getsize(\"A\")[1]  # Get the height of a single line of text\n",
    "    \n",
    "    width = max(font.getsize(line)[0] for line in lines)  # Get the maximum line width\n",
    "    height = len(lines) * line_height  # Calculate the total height\n",
    "    \n",
    "    new_image = IMG.new(\"RGB\", (width, height), (255, 255, 255))  # Create a new image with white background\n",
    "    draw = ImageDraw.Draw(new_image)\n",
    "    \n",
    "    y = 0\n",
    "    for line in lines:\n",
    "        draw.text((0, y), line, fill=(0, 0, 0), font=font)  # Draw the text line by line\n",
    "        y += line_height\n",
    "    \n",
    "    new_image = new_image.convert(\"L\")  # Convert to grayscale\n",
    "    new_image.save(output_file)\n",
    "\n",
    "ASCII_art = export(image)\n",
    "ascii_to_image(ASCII_art, \"ASCII_image.png\")\n"
   ]
  },
  {
   "cell_type": "code",
   "execution_count": null,
   "metadata": {},
   "outputs": [],
   "source": []
  }
 ],
 "metadata": {
  "kernelspec": {
   "display_name": "Python 3 (ipykernel)",
   "language": "python",
   "name": "python3"
  },
  "language_info": {
   "codemirror_mode": {
    "name": "ipython",
    "version": 3
   },
   "file_extension": ".py",
   "mimetype": "text/x-python",
   "name": "python",
   "nbconvert_exporter": "python",
   "pygments_lexer": "ipython3",
   "version": "3.11.3"
  }
 },
 "nbformat": 4,
 "nbformat_minor": 2
}
