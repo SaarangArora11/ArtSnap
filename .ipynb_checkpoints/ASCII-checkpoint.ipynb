{
 "cells": [
  {
   "cell_type": "code",
   "execution_count": 10,
   "metadata": {},
   "outputs": [],
   "source": [
    "import PIL.Image as IMG\n",
    "from rembg import remove"
   ]
  },
  {
   "cell_type": "code",
   "execution_count": 2,
   "metadata": {},
   "outputs": [],
   "source": [
    "image = IMG.open(\"LOGO.jpg\")"
   ]
  },
  {
   "cell_type": "code",
   "execution_count": 3,
   "metadata": {},
   "outputs": [],
   "source": [
    "# gscale1 = \"$@B%8&WM#*oahkbdpqwmZO0QLCJUYXzcvunxrjft/\\|()1{}[]?-_+~i!lI;:,\\\"^`.\"    #70 levels of \n",
    "gscale1 = [\"$\", \"@\", \"B\", \"%\", \"8\", \"&\", \"W\", \"M\", \"*\", \"#\", \"o\", \"a\", \"h\", \"k\", \"b\", \"d\", \"p\", \"q\", \"w\", \"m\", \"Z\", \"O\", \"0\", \"Q\", \"L\", \"C\", \"J\", \"U\", \"Y\", \"X\", \"z\", \"c\", \"v\", \"u\", \"n\", \"x\", \"r\", \"j\", \"f\", \"t\", \"/\", \"\\\\\", \"|\", \"(\", \")\", \"{\", \"}\", \"[\", \"]\", \"-\", \"?\", \"_\", \"+\", \"~\", \"i\", \"!\", \"l\", \"I\", \";\", \":\", \",\", \"^\", \"`\", \".\"]\n",
    "gscale2 = [\"@\", \"%\", \"#\", \"S\", \"*\", \"+\", \"=\", \"-\", \":\", \".\", \" \"]         #11 levels of gray\n",
    "gscale3 = [\"@\", \"#\", \"+\", \".\", \" \"]"
   ]
  },
  {
   "cell_type": "code",
   "execution_count": null,
   "metadata": {},
   "outputs": [],
   "source": [
    "def eraseBKG(image):\n",
    "    return remove(image)"
   ]
  },
  {
   "cell_type": "code",
   "execution_count": 4,
   "metadata": {},
   "outputs": [],
   "source": [
    "def img_resize(image, new_width=100):\n",
    "    width, height = image.size\n",
    "    ratio=height/width\n",
    "    new_height = int(new_width*ratio)\n",
    "    resized_image = image.resize((new_width,new_height))\n",
    "    return(resized_image)"
   ]
  },
  {
   "cell_type": "code",
   "execution_count": 5,
   "metadata": {},
   "outputs": [],
   "source": [
    "def grayscale_convert(image):\n",
    "    grayscale_image = image.convert(\"L\")\n",
    "    return(grayscale_image)"
   ]
  },
  {
   "cell_type": "code",
   "execution_count": 6,
   "metadata": {},
   "outputs": [],
   "source": [
    "def ASCIIify(image):\n",
    "    pixels=image.getdata()\n",
    "    characters = \"\".join([gscale2[pixel//25]for pixel in pixels])\n",
    "    return(characters)"
   ]
  },
  {
   "cell_type": "code",
   "execution_count": 7,
   "metadata": {},
   "outputs": [],
   "source": [
    "new_image_data = ASCIIify(grayscale_convert(img_resize(image)))"
   ]
  },
  {
   "cell_type": "code",
   "execution_count": 8,
   "metadata": {},
   "outputs": [],
   "source": [
    "pixel_count = len(new_image_data)\n",
    "new_width = 200\n",
    "ASCII_image = \"\\n\".join(new_image_data[i:(i+new_width)] for i in range(0,pixel_count,new_width)) "
   ]
  },
  {
   "cell_type": "code",
   "execution_count": 9,
   "metadata": {},
   "outputs": [
    {
     "name": "stdout",
     "output_type": "stream",
     "text": [
      "                                                                                                                                                                                                        \n",
      "                                                                                                                                                                                                        \n",
      "                                                                                                                                                                                                        \n",
      "                                                                                                                                                                                                        \n",
      "                                                                                                                                                                                                        \n",
      "                                                                                                                                                                                                        \n",
      "                                                                                                                                                                                                        \n",
      "                                                                                                                                                                                                        \n",
      "                                                                                                                                                                                                        \n",
      "                                                                                                                                                                                                        \n",
      "                                                                                                                                                                                                        \n",
      "                                                                                                                                                                                                        \n",
      "                                                                                                                                                                                                        \n",
      "                                                                                                                                                                                                        \n",
      "                                                                                                          ...       ..       ..           ............            ..               ....        .        \n",
      "      =#S*.    -SS-    :SSS:         =SSSSSSSSSSSS=          -SS:              -SSS=     .---.            =###=    +##+    +###-         S############*          -##:              -###*     :=*=:      \n",
      "      :*##+   .S##S    *##*:         S#S==*##*=+##*          :++.              :+##*     :===.             :##S.  :####:  .S#S.    ..    *S+  =##- .##*   .                  ..     .S#*      :-:       \n",
      "       .S##:  =####-  -##*   -*SS*=. ...  =##- .##*.=*SS=.  =**+. =**= :+SS*-   .S#*   -**=                 *##-  *#SS#+  =##=  +######*.     =##- .##**#####+  S###- S###+S#####-  .S#*  .S##:         \n",
      "        =##+ .S#++#S  *##- =##S--*##=     =##- .####S**###: +S##- +S####*+S##*  .S#*  +##=                  :##* :##--##:.S#S..S#S.  .S#S.    =##- .###*.  *##-  =##-  =###=  :##S. .S#* -##*.          \n",
      "        .S#S.=##.:##-:##* :##S++++S##:    =##- .###:   =##-  =##-  =##*    S#S. .S#S*##S:                    +##:*#* .S#+-##= -##########:    =##- .##*    =##-  =##-  =##=    S#S. .S#####+            \n",
      "         =##+S#+  +#S*##: -##*-------.    =##- .##*    =##-  =##-  =##-    S#S. .S#S+S##:                    :##S##:  -####S. :##S            =##- .##*    =##-  =##-  =##-    S#S. .S#* =##*           \n",
      "         .S###S.  .####*   *##+. .:*:     =##- .##*    =##=. =##=. =##-    S#S:..S#* .S##-.                   +###*    *###=   :S##S*S##*     =##- .##*    =###+ =###+ =##-    S###:.S#*  -###S.        \n",
      "          =###=    +###:    :S#####S-     +##- .##*    -###* -###* =##-    *###-.##*  .*###.                  .---.    .---.     .-+++-.      :--. .---     ---: .---: :--.    .---..---   .---.        \n",
      "                                                                                                                                                                                                        \n",
      "                                                                                                                                                                                                        \n",
      "            :SSSSSSSSSSSSSSSSSSSSSSSSSSSSSSSSSSSSSSSSSSSSSSSSSSSSSSSSSSSSSSSSSSSSSSSSSS:                        :##########################################################################:            \n",
      "            :##########################################################################:                        :##########################################################################:            \n",
      "            :####SSS########SSS#############################SSSS####SSS################:                        :####*..-######-...*############################- ..S##S..+################:            \n",
      "            :####*   +####S.   *############################-   *##S. +################:                        :####*   .S###S. .*S############################S=  *###++S################:            \n",
      "            :####*    -###S. :######SSSS############S####SSS#+  *############SSSS######:                        :####*  .  +##S. :####S-....=S##S:::=#+.:##S-. .-=  *#+:::*####*-. ..=S####:            \n",
      "            :####*  =. .S#S. :###+.      .*#S   :=  :#*.     .  *#+   =###+.      -####:                        :####*  =+  :##. :##S. .=**-  .S#+. ...-=#:  -**-   *#S=  =##S. .=**: .####:            \n",
      "            :####*  =#:  +#. :##-  +####=  =##-  .*##*  :####:  *##S. =##=  +###*-=####:                        :####*  =#S. .*. :##. :#####S. :##-  +###+  +####+  *##S. =##: .###########:            \n",
      "            :####*  =##+  -: :#S. :######: :##- .S###=  *####+  *##S. =##. :###########:                        :####*  =###-  . :##. :#####S. :##- .S###+  +####+  *##S. =##: .###########:            \n",
      "            :####*  =###S.   :##-  +####=  =##- .S###*  -####:  *##S. =##-  +####S*####:                        :###*-  =####+   :##*. .+SS=  .S##- .S####:  =SS-   =S#S. :*#S. .=**+..S###:            \n",
      "            :###-   =#####-  :###+.      .*###- .S####*.     .   -#S   .##+.      .*###:                        :###-..:*#####S:.:####*-.  .-S####-.:S#####*:. .-S:..=##-..:###*:.  .-S####:            \n",
      "            :####SS#########S#######S**S#######SS########S*S###SS####SSS#####S**S######:                        :##########################################################################:            \n",
      "            :##########################################################################:                        :SSSSSSSSSSSSSSSSSSSSSSSSSSSSSSSSSSSSSSSSSSSSSSSSSSSSSSSSSSSSSSSSSSSSSSSSSS:            \n",
      "                                                                                                                                                                                                        \n",
      "                                                                                                                                                                                                        \n",
      "                                                                                                                                                                                                        \n",
      "                                                                                                                                                                                                        \n",
      "                                                                                                                                                                                                        \n",
      "                                                                                                                                                                                                        \n",
      "                                                                                                                                                                                                        \n",
      "                                                                                                                                                                                                        \n",
      "                                                                                                                                                                                                        \n",
      "                                                                                                                                                                                                        \n",
      "                                                                                                                                                                                                        \n",
      "                                                                                                                                                                                                        \n",
      "                                                                                                                                                                                                        \n"
     ]
    }
   ],
   "source": [
    "print(ASCII_image)"
   ]
  },
  {
   "cell_type": "code",
   "execution_count": 94,
   "metadata": {},
   "outputs": [],
   "source": [
    "with open(\"ASCII_image.txt\",\"w\") as f:\n",
    "    f.write(ASCII_image)"
   ]
  },
  {
   "cell_type": "code",
   "execution_count": null,
   "metadata": {},
   "outputs": [],
   "source": []
  }
 ],
 "metadata": {
  "kernelspec": {
   "display_name": "Python 3 (ipykernel)",
   "language": "python",
   "name": "python3"
  },
  "language_info": {
   "codemirror_mode": {
    "name": "ipython",
    "version": 3
   },
   "file_extension": ".py",
   "mimetype": "text/x-python",
   "name": "python",
   "nbconvert_exporter": "python",
   "pygments_lexer": "ipython3",
   "version": "3.11.3"
  }
 },
 "nbformat": 4,
 "nbformat_minor": 2
}
