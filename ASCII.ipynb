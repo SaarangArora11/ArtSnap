{
 "cells": [
  {
   "cell_type": "code",
   "execution_count": 1,
   "metadata": {},
   "outputs": [],
   "source": [
    "import PIL.Image as IMG\n",
    "from rembg import remove"
   ]
  },
  {
   "cell_type": "code",
   "execution_count": 43,
   "metadata": {},
   "outputs": [],
   "source": [
    "image = IMG.open(\"_inputs/SEKIRO.jpg\")"
   ]
  },
  {
   "cell_type": "code",
   "execution_count": 48,
   "metadata": {},
   "outputs": [],
   "source": [
    "gscale1 = [\" \", \"$\", \"@\", \"B\", \"%\", \"8\", \"&\", \"W\", \"M\", \"*\", \"#\", \"o\", \"a\", \"h\", \"k\", \"b\", \"d\", \"p\", \"q\", \"w\", \"m\", \"Z\", \"O\", \"0\", \"Q\", \"L\", \"C\", \"J\", \"U\", \"Y\", \"X\", \"z\", \"c\", \"v\", \"u\", \"n\", \"x\", \"r\", \"j\", \"f\", \"t\", \"/\", \"\\\\\", \"|\", \"(\", \")\", \"{\", \"}\", \"[\", \"]\", \"-\", \"?\", \"_\", \"+\", \"~\", \"i\", \"!\", \"l\", \"I\", \";\", \":\", \",\", \"^\", \"`\", \".\"]\n",
    "gscale2 = [\" \", \"@\", \"%\", \"#\", \"S\", \"*\", \"+\", \"=\", \"-\", \":\", \".\"]         #11 levels of gray\n",
    "gscale3 = [\" \", \"@\", \"#\", \"+\", \".\"]"
   ]
  },
  {
   "cell_type": "code",
   "execution_count": 49,
   "metadata": {},
   "outputs": [],
   "source": [
    "def eraseBKG(image):\n",
    "    return remove(image)"
   ]
  },
  {
   "cell_type": "code",
   "execution_count": 50,
   "metadata": {},
   "outputs": [],
   "source": [
    "def img_resize(image, new_width=100):\n",
    "    width, height = image.size\n",
    "    ratio=height/width\n",
    "    new_height = int(new_width*ratio)\n",
    "    resized_image = image.resize((new_width,new_height))\n",
    "    return(resized_image)"
   ]
  },
  {
   "cell_type": "code",
   "execution_count": 51,
   "metadata": {},
   "outputs": [],
   "source": [
    "def grayscale_convert(image):\n",
    "    grayscale_image = image.convert(\"L\")\n",
    "    return(grayscale_image)"
   ]
  },
  {
   "cell_type": "code",
   "execution_count": 62,
   "metadata": {},
   "outputs": [],
   "source": [
    "def ASCIIify(image):\n",
    "    pixels=image.getdata()\n",
    "    characters = \"\".join([gscale1[pixel//25]for pixel in pixels])\n",
    "    return(characters)"
   ]
  },
  {
   "cell_type": "code",
   "execution_count": 63,
   "metadata": {},
   "outputs": [],
   "source": [
    "def export(image):\n",
    "    new_image_data = ASCIIify(grayscale_convert(img_resize(eraseBKG(image))))\n",
    "    \n",
    "    pixel_count = len(new_image_data)\n",
    "    new_width = 100\n",
    "    ASCII_image = \"\\n\".join(new_image_data[i:(i+new_width)] for i in range(0,pixel_count,new_width)) \n",
    "    \n",
    "    with open(\"ASCII_image.txt\",\"w\") as f:\n",
    "        f.write(ASCII_image)"
   ]
  },
  {
   "cell_type": "code",
   "execution_count": 64,
   "metadata": {},
   "outputs": [],
   "source": [
    "export(image)"
   ]
  },
  {
   "cell_type": "code",
   "execution_count": null,
   "metadata": {},
   "outputs": [],
   "source": []
  },
  {
   "cell_type": "code",
   "execution_count": 26,
   "metadata": {},
   "outputs": [],
   "source": []
  },
  {
   "cell_type": "code",
   "execution_count": null,
   "metadata": {},
   "outputs": [],
   "source": []
  }
 ],
 "metadata": {
  "kernelspec": {
   "display_name": "Python 3 (ipykernel)",
   "language": "python",
   "name": "python3"
  },
  "language_info": {
   "codemirror_mode": {
    "name": "ipython",
    "version": 3
   },
   "file_extension": ".py",
   "mimetype": "text/x-python",
   "name": "python",
   "nbconvert_exporter": "python",
   "pygments_lexer": "ipython3",
   "version": "3.11.3"
  }
 },
 "nbformat": 4,
 "nbformat_minor": 2
}
